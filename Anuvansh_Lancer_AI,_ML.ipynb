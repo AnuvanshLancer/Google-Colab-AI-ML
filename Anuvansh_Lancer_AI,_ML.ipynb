{
  "nbformat": 4,
  "nbformat_minor": 0,
  "metadata": {
    "colab": {
      "provenance": [],
      "authorship_tag": "ABX9TyMx5oVv02swtA2pRWvcdnJn",
      "include_colab_link": true
    },
    "kernelspec": {
      "name": "python3",
      "display_name": "Python 3"
    },
    "language_info": {
      "name": "python"
    }
  },
  "cells": [
    {
      "cell_type": "markdown",
      "metadata": {
        "id": "view-in-github",
        "colab_type": "text"
      },
      "source": [
        "<a href=\"https://colab.research.google.com/github/AnuvanshLancer/Google-Colab-AI-ML/blob/main/Anuvansh_Lancer_AI%2C_ML.ipynb\" target=\"_parent\"><img src=\"https://colab.research.google.com/assets/colab-badge.svg\" alt=\"Open In Colab\"/></a>"
      ]
    },
    {
      "cell_type": "code",
      "execution_count": null,
      "metadata": {
        "id": "S1fhg5r8QQvJ"
      },
      "outputs": [],
      "source": [
        "tree_value = int(input('Enter the length of the Tree: '))\n",
        "\n",
        "\n",
        "def xtree(lines):\n",
        "    n = lines\n",
        "\n",
        "    for outer in range(1, n+1):\n",
        "        for space in range(1, (n+1)-outer):\n",
        "            print(\" \", end=\"\")\n",
        "        for inner in range(1, outer+1):\n",
        "            print(inner, end=\" \")\n",
        "        print(\" \")\n",
        "\n",
        "\n",
        "xtree(tree_value)"
      ]
    },
    {
      "cell_type": "markdown",
      "source": [
        "Q - Calculate the income of tax of an employee:\n",
        "\n",
        "    1. input the incom\n",
        "    2. if income < 3 lakh (lac) == no tax\n",
        "    3. if income is between 3 to 5 lac, tax == 30%\n",
        "    4. if encome between 5 and 8, tax = 30%\n",
        "    5. else: tax = 40%"
      ],
      "metadata": {
        "id": "IRm5btivSdGK"
      }
    },
    {
      "cell_type": "code",
      "source": [
        "income = float(input(\"Enter the income: \"))\n",
        "\n",
        "if income < 300000:\n",
        "    tax = 0\n",
        "elif 300000 <= income < 500000:\n",
        "    tax = income * 0.2\n",
        "elif 500000 <= income < 800000:\n",
        "    tax = income * 0.3\n",
        "else:\n",
        "    tax = income * 0.4\n",
        "\n",
        "print(\"Income Tax: \", tax)"
      ],
      "metadata": {
        "colab": {
          "base_uri": "https://localhost:8080/"
        },
        "id": "5IT3F_qKcoG2",
        "outputId": "c07b4688-dd16-4e86-de8c-514420178397"
      },
      "execution_count": null,
      "outputs": [
        {
          "output_type": "stream",
          "name": "stdout",
          "text": [
            "Enter the income: 300000\n",
            "Income Tax:  60000.0\n"
          ]
        }
      ]
    },
    {
      "cell_type": "markdown",
      "source": [
        "Q Input Name and BP of Employee, calculate gross pay and net pay.\n",
        "\n",
        "1. GrossPay =  BP + DA + HRA - PF\n",
        "2. PF = 12% of DP\n",
        "3. HRA is 20% of BP but maximum can be 2000 only\n",
        "4. DA is 20% of BP for BP < 3 lakh\n",
        "6. =====================================\n",
        "5. DA is 30% of BP if NetPay = GrossPay - PF\n",
        "\n"
      ],
      "metadata": {
        "id": "gsJS88fie8nq"
      }
    },
    {
      "cell_type": "code",
      "source": [
        "name = input(\"Enter the name of the employee: \")\n",
        "bp = float(input(\"Enter the basic pay (BP) of the employee: \"))\n",
        "\n",
        "pf = 0.12 * bp\n",
        "\n",
        "if bp < 300000:\n",
        "    da = 0.2 * bp\n",
        "else:\n",
        "    da = 0.3 * bp\n",
        "\n",
        "hra = min(0.2 * bp, 2000)\n",
        "\n",
        "gross_pay = bp + da + hra - pf\n",
        "net_pay = gross_pay - pf\n",
        "\n",
        "print(\"Employee Name:\", name)\n",
        "print(\"Gross Pay:\", gross_pay)\n",
        "print(\"Net Pay:\", net_pay)"
      ],
      "metadata": {
        "colab": {
          "base_uri": "https://localhost:8080/"
        },
        "id": "U3U858S9fLAH",
        "outputId": "fe0c82c9-2c93-44bb-d87c-5b2d6392ab04"
      },
      "execution_count": null,
      "outputs": [
        {
          "output_type": "stream",
          "name": "stdout",
          "text": [
            "Enter the name of the employee: Anuvansh\n",
            "Enter the basic pay (BP) of the employee: 3000000\n",
            "Employee Name: Anuvansh\n",
            "Gross Pay: 3542000.0\n",
            "Net Pay: 3182000.0\n"
          ]
        }
      ]
    }
  ]
}