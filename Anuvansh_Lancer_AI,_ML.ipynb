{
  "cells": [
    {
      "cell_type": "markdown",
      "metadata": {
        "colab_type": "text",
        "id": "view-in-github"
      },
      "source": [
        "<a href=\"https://colab.research.google.com/github/AnuvanshLancer/Google-Colab-AI-ML/blob/main/Anuvansh_Lancer_AI%2C_ML.ipynb\" target=\"_parent\"><img src=\"https://colab.research.google.com/assets/colab-badge.svg\" alt=\"Open In Colab\"/></a>"
      ]
    },
    {
      "cell_type": "code",
      "execution_count": null,
      "metadata": {
        "id": "S1fhg5r8QQvJ"
      },
      "outputs": [],
      "source": [
        "tree_value = int(input('Enter the length of the Tree: '))\n",
        "\n",
        "\n",
        "def xtree(lines):\n",
        "    n = lines\n",
        "\n",
        "    for outer in range(1, n+1):\n",
        "        for space in range(1, (n+1)-outer):\n",
        "            print(\" \", end=\"\")\n",
        "        for inner in range(1, outer+1):\n",
        "            print(inner, end=\" \")\n",
        "        print(\" \")\n",
        "\n",
        "\n",
        "xtree(tree_value)"
      ]
    },
    {
      "cell_type": "markdown",
      "metadata": {
        "id": "IRm5btivSdGK"
      },
      "source": [
        "Q - Calculate the income of tax of an employee:\n",
        "\n",
        "    1. input the incom\n",
        "    2. if income < 3 lakh (lac) == no tax\n",
        "    3. if income is between 3 to 5 lac, tax == 30%\n",
        "    4. if encome between 5 and 8, tax = 30%\n",
        "    5. else: tax = 40%"
      ]
    },
    {
      "cell_type": "code",
      "execution_count": null,
      "metadata": {
        "colab": {
          "base_uri": "https://localhost:8080/"
        },
        "id": "5IT3F_qKcoG2",
        "outputId": "c07b4688-dd16-4e86-de8c-514420178397"
      },
      "outputs": [
        {
          "name": "stdout",
          "output_type": "stream",
          "text": [
            "Enter the income: 300000\n",
            "Income Tax:  60000.0\n"
          ]
        }
      ],
      "source": [
        "income = float(input(\"Enter the income: \"))\n",
        "\n",
        "if income < 300000:\n",
        "    tax = 0\n",
        "elif 300000 <= income < 500000:\n",
        "    tax = income * 0.2\n",
        "elif 500000 <= income < 800000:\n",
        "    tax = income * 0.3\n",
        "else:\n",
        "    tax = income * 0.4\n",
        "\n",
        "print(\"Income Tax: \", tax)"
      ]
    },
    {
      "cell_type": "markdown",
      "metadata": {
        "id": "gsJS88fie8nq"
      },
      "source": [
        "Q Input Name and BP of Employee, calculate gross pay and net pay.\n",
        "\n",
        "1. GrossPay =  BP + DA + HRA - PF\n",
        "2. PF = 12% of DP\n",
        "3. HRA is 20% of BP but maximum can be 2000 only\n",
        "4. DA is 20% of BP for BP < 3 lakh\n",
        "6. =====================================\n",
        "5. DA is 30% of BP if NetPay = GrossPay - PF\n",
        "\n"
      ]
    },
    {
      "cell_type": "code",
      "execution_count": null,
      "metadata": {
        "colab": {
          "base_uri": "https://localhost:8080/"
        },
        "id": "U3U858S9fLAH",
        "outputId": "fe0c82c9-2c93-44bb-d87c-5b2d6392ab04"
      },
      "outputs": [],
      "source": [
        "name = input(\"Enter the name of the employee: \")\n",
        "bp = float(input(\"Enter the basic pay (BP) of the employee: \"))\n",
        "\n",
        "pf = 0.12 * bp\n",
        "\n",
        "if bp < 300000:\n",
        "    da = 0.2 * bp\n",
        "else:\n",
        "    da = 0.3 * bp\n",
        "\n",
        "hra = min(0.2 * bp, 2000)\n",
        "\n",
        "gross_pay = bp + da + hra - pf\n",
        "net_pay = gross_pay - pf\n",
        "\n",
        "print(\"Employee Name:\", name)\n",
        "print(\"Gross Pay:\", gross_pay)\n",
        "print(\"Net Pay:\", net_pay)"
      ]
    },
    {
      "attachments": {},
      "cell_type": "markdown",
      "metadata": {},
      "source": [
        "Q Write a program to input three nos and print the greatest."
      ]
    },
    {
      "cell_type": "code",
      "execution_count": null,
      "metadata": {},
      "outputs": [],
      "source": [
        "# Answer for Question 3\n",
        "\n",
        "a = int(input('Enter your 1st number: '))\n",
        "b = int(input('Enter your 2nd number: '))\n",
        "c = int(input('Enter your 3rd number: '))\n",
        "\n",
        "print(a + b + c)"
      ]
    },
    {
      "attachments": {},
      "cell_type": "markdown",
      "metadata": {},
      "source": [
        "Q - Write a program to input two numbers\n",
        "1. Add them\n",
        "2. Subtract them\n",
        "3. Multiply them\n",
        "4. Divide them"
      ]
    },
    {
      "cell_type": "code",
      "execution_count": null,
      "metadata": {},
      "outputs": [],
      "source": [
        "# Answer\n",
        "\n",
        "def add(num1, num2):\n",
        "    return num1 + num2\n",
        "\n",
        "def subtract(num1, num2):\n",
        "    return num1 - num2\n",
        "\n",
        "def multiply(num1, num2):\n",
        "    return num1 * num2\n",
        "\n",
        "def divide(num1, num2):\n",
        "    return num1 / num2\n",
        "\n",
        "def calculate(num1, num2):\n",
        "    operations = {\n",
        "        \"+\": add(num1, num2),\n",
        "        \"-\": subtract(num1, num2),\n",
        "        \"*\": multiply(num1, num2),\n",
        "        \"÷\": divide(num1, num2)\n",
        "    }\n",
        "    return operations\n",
        "\n",
        "def print_all_operations(num1, num2):\n",
        "    operations = calculate(num1, num2)\n",
        "    for operator, result in operations.items():\n",
        "        print(f\"{num1} {operator} {num2} = {result}\")\n",
        "\n",
        "\n",
        "num1 = int(input('Enter a number: '))\n",
        "num2 = int(input('Enter a number: '))\n",
        "print_all_operations(num1, num2)\n"
      ]
    },
    {
      "attachments": {},
      "cell_type": "markdown",
      "metadata": {},
      "source": [
        "Q Write a program to inpute a figure like C, R, S (C = Circle, R = Rectangle, S = Square)\n",
        "1. Check the figure\n",
        "2. Ask parameters\n",
        "3. Calculate the Area\n",
        "4. Give an error message if something else is entered"
      ]
    },
    {
      "cell_type": "code",
      "execution_count": null,
      "metadata": {},
      "outputs": [],
      "source": [
        "# This code still contains some errors. Please Don't run them until they are fixed\n",
        "\n",
        "from math import pi\n",
        "def circle():\n",
        "    print('Do you want to Find the are of circle with Diamerter or Radius?')\n",
        "    circle_choice = input('(D == Diamerter), (R == Radius) => ')\n",
        "\n",
        "    if circle_choice == 'D':\n",
        "        Diameter = float(input('Enter the Diamerter = '))\n",
        "        radius = Diameter / 2\n",
        "        Area_of_Circle = pi * radius**2\n",
        "        print('The area of the circle is', Area_of_Circle)\n",
        "\n",
        "    elif circle_choice == 'R':\n",
        "        radius = float(input('Enter the Radius = '))\n",
        "        Area_of_Circle = pi * radius**2\n",
        "        print('The area of the circle is', Area_of_Circle)\n",
        "    \n",
        "    else:\n",
        "        print('Invalid choice! Please try again.')\n",
        "        circle()\n",
        "\n",
        "\n",
        "def square():\n",
        "    s = int(input('Enter the length of the side of the square: '))\n",
        "    print('Area of the Square is', s * s)\n",
        "\n",
        "\n",
        "def rectangle():\n",
        "    l = int(input('Enter the length : '))\n",
        "    b = int(input('Enter the breadth : '))\n",
        "\n",
        "    print('The area is ', l * b)\n",
        "\n",
        "\n",
        "def main():\n",
        "\n",
        "    print('Welcome to the Area finder')\n",
        "    print('''Choose your figure\n",
        "    C == Circle\n",
        "    S == Square\n",
        "    R == Rectangle\n",
        "    Q == Quit\n",
        "    !! if you are not able to finder your desired shape/figure. Please contact on anuvanshlancer.official@gmail.com''')\n",
        "      \n",
        "    choice = input('Choose: ')\n",
        "\n",
        "    if choice == 'C':\n",
        "        circle()\n",
        "\n",
        "    elif choice == 'S':\n",
        "        square()\n",
        "\n",
        "    elif choice == 'R':\n",
        "        rectangle()\n",
        "\n",
        "    elif choice == 'Q':\n",
        "        quit()\n",
        "\n",
        "    \n",
        "    else:\n",
        "        print('Invalid Input!')\n",
        "        print('Try Again!')\n",
        "        main()\n",
        "\n",
        "\n",
        "while True:\n",
        "    main()\n",
        "    "
      ]
    }
  ],
  "metadata": {
    "colab": {
      "authorship_tag": "ABX9TyMx5oVv02swtA2pRWvcdnJn",
      "include_colab_link": true,
      "provenance": []
    },
    "kernelspec": {
      "display_name": "Python 3",
      "name": "python3"
    },
    "language_info": {
      "codemirror_mode": {
        "name": "ipython",
        "version": 3
      },
      "file_extension": ".py",
      "mimetype": "text/x-python",
      "name": "python",
      "nbconvert_exporter": "python",
      "pygments_lexer": "ipython3",
      "version": "3.11.4"
    }
  },
  "nbformat": 4,
  "nbformat_minor": 0
}
